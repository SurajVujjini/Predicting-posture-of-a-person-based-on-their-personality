{
 "cells": [
  {
   "cell_type": "markdown",
   "id": "94afff13",
   "metadata": {},
   "source": [
    "# Exploratory data analysis(EDA) - Correlation between Posture & Personality Trait"
   ]
  },
  {
   "cell_type": "markdown",
   "id": "da325901",
   "metadata": {},
   "source": [
    "#### Link to the dataset - https://www.kaggle.com/datasets/dhanasekarjaisankar/correlation-between-posture-personality-trait?resource=download"
   ]
  },
  {
   "cell_type": "code",
   "execution_count": 1,
   "id": "c5aed58c",
   "metadata": {},
   "outputs": [],
   "source": [
    "import pandas as pd\n",
    "import matplotlib.pyplot as plt\n",
    "import seaborn as sns"
   ]
  },
  {
   "cell_type": "code",
   "execution_count": 2,
   "id": "35644e43",
   "metadata": {},
   "outputs": [],
   "source": [
    "data = pd.read_csv(\"Myers Briggs Table_S1.csv\")   #Importing the dataset"
   ]
  },
  {
   "cell_type": "code",
   "execution_count": 3,
   "id": "fbe9be2e",
   "metadata": {},
   "outputs": [
    {
     "data": {
      "text/html": [
       "<div>\n",
       "<style scoped>\n",
       "    .dataframe tbody tr th:only-of-type {\n",
       "        vertical-align: middle;\n",
       "    }\n",
       "\n",
       "    .dataframe tbody tr th {\n",
       "        vertical-align: top;\n",
       "    }\n",
       "\n",
       "    .dataframe thead th {\n",
       "        text-align: right;\n",
       "    }\n",
       "</style>\n",
       "<table border=\"1\" class=\"dataframe\">\n",
       "  <thead>\n",
       "    <tr style=\"text-align: right;\">\n",
       "      <th></th>\n",
       "      <th>S No</th>\n",
       "      <th>AGE</th>\n",
       "      <th>HEIGHT</th>\n",
       "      <th>WEIGHT</th>\n",
       "      <th>SEX</th>\n",
       "      <th>ACTIVITY LEVEL</th>\n",
       "      <th>PAIN 1</th>\n",
       "      <th>PAIN 2</th>\n",
       "      <th>PAIN 3</th>\n",
       "      <th>PAIN 4</th>\n",
       "      <th>MBTI</th>\n",
       "      <th>E</th>\n",
       "      <th>I</th>\n",
       "      <th>S</th>\n",
       "      <th>N</th>\n",
       "      <th>T</th>\n",
       "      <th>F</th>\n",
       "      <th>J</th>\n",
       "      <th>P</th>\n",
       "      <th>POSTURE</th>\n",
       "    </tr>\n",
       "  </thead>\n",
       "  <tbody>\n",
       "    <tr>\n",
       "      <th>0</th>\n",
       "      <td>1</td>\n",
       "      <td>53</td>\n",
       "      <td>62</td>\n",
       "      <td>125</td>\n",
       "      <td>Female</td>\n",
       "      <td>Low</td>\n",
       "      <td>0.0</td>\n",
       "      <td>0.0</td>\n",
       "      <td>0.0</td>\n",
       "      <td>0.0</td>\n",
       "      <td>ESFJ</td>\n",
       "      <td>18</td>\n",
       "      <td>3</td>\n",
       "      <td>17</td>\n",
       "      <td>9</td>\n",
       "      <td>9</td>\n",
       "      <td>13</td>\n",
       "      <td>18</td>\n",
       "      <td>4</td>\n",
       "      <td>A</td>\n",
       "    </tr>\n",
       "    <tr>\n",
       "      <th>1</th>\n",
       "      <td>2</td>\n",
       "      <td>52</td>\n",
       "      <td>69</td>\n",
       "      <td>157</td>\n",
       "      <td>Male</td>\n",
       "      <td>High</td>\n",
       "      <td>7.0</td>\n",
       "      <td>8.0</td>\n",
       "      <td>5.0</td>\n",
       "      <td>3.0</td>\n",
       "      <td>ISTJ</td>\n",
       "      <td>6</td>\n",
       "      <td>15</td>\n",
       "      <td>14</td>\n",
       "      <td>12</td>\n",
       "      <td>21</td>\n",
       "      <td>3</td>\n",
       "      <td>13</td>\n",
       "      <td>9</td>\n",
       "      <td>B</td>\n",
       "    </tr>\n",
       "    <tr>\n",
       "      <th>2</th>\n",
       "      <td>3</td>\n",
       "      <td>30</td>\n",
       "      <td>69</td>\n",
       "      <td>200</td>\n",
       "      <td>Male</td>\n",
       "      <td>High</td>\n",
       "      <td>0.0</td>\n",
       "      <td>0.0</td>\n",
       "      <td>0.0</td>\n",
       "      <td>0.0</td>\n",
       "      <td>ESTJ</td>\n",
       "      <td>15</td>\n",
       "      <td>6</td>\n",
       "      <td>16</td>\n",
       "      <td>10</td>\n",
       "      <td>15</td>\n",
       "      <td>9</td>\n",
       "      <td>12</td>\n",
       "      <td>10</td>\n",
       "      <td>A</td>\n",
       "    </tr>\n",
       "    <tr>\n",
       "      <th>3</th>\n",
       "      <td>4</td>\n",
       "      <td>51</td>\n",
       "      <td>66</td>\n",
       "      <td>175</td>\n",
       "      <td>Male</td>\n",
       "      <td>Moderate</td>\n",
       "      <td>9.5</td>\n",
       "      <td>9.5</td>\n",
       "      <td>9.5</td>\n",
       "      <td>1.5</td>\n",
       "      <td>ISTJ</td>\n",
       "      <td>6</td>\n",
       "      <td>15</td>\n",
       "      <td>21</td>\n",
       "      <td>5</td>\n",
       "      <td>13</td>\n",
       "      <td>11</td>\n",
       "      <td>19</td>\n",
       "      <td>3</td>\n",
       "      <td>D</td>\n",
       "    </tr>\n",
       "    <tr>\n",
       "      <th>4</th>\n",
       "      <td>5</td>\n",
       "      <td>45</td>\n",
       "      <td>63</td>\n",
       "      <td>199</td>\n",
       "      <td>Female</td>\n",
       "      <td>Moderate</td>\n",
       "      <td>4.0</td>\n",
       "      <td>5.0</td>\n",
       "      <td>2.0</td>\n",
       "      <td>2.0</td>\n",
       "      <td>ENFJ</td>\n",
       "      <td>14</td>\n",
       "      <td>7</td>\n",
       "      <td>20</td>\n",
       "      <td>6</td>\n",
       "      <td>9</td>\n",
       "      <td>15</td>\n",
       "      <td>16</td>\n",
       "      <td>6</td>\n",
       "      <td>A</td>\n",
       "    </tr>\n",
       "    <tr>\n",
       "      <th>...</th>\n",
       "      <td>...</td>\n",
       "      <td>...</td>\n",
       "      <td>...</td>\n",
       "      <td>...</td>\n",
       "      <td>...</td>\n",
       "      <td>...</td>\n",
       "      <td>...</td>\n",
       "      <td>...</td>\n",
       "      <td>...</td>\n",
       "      <td>...</td>\n",
       "      <td>...</td>\n",
       "      <td>...</td>\n",
       "      <td>...</td>\n",
       "      <td>...</td>\n",
       "      <td>...</td>\n",
       "      <td>...</td>\n",
       "      <td>...</td>\n",
       "      <td>...</td>\n",
       "      <td>...</td>\n",
       "      <td>...</td>\n",
       "    </tr>\n",
       "    <tr>\n",
       "      <th>92</th>\n",
       "      <td>93</td>\n",
       "      <td>16</td>\n",
       "      <td>58</td>\n",
       "      <td>100</td>\n",
       "      <td>Male</td>\n",
       "      <td>Moderate</td>\n",
       "      <td>0.0</td>\n",
       "      <td>0.0</td>\n",
       "      <td>0.0</td>\n",
       "      <td>3.0</td>\n",
       "      <td>ESTP</td>\n",
       "      <td>19</td>\n",
       "      <td>2</td>\n",
       "      <td>22</td>\n",
       "      <td>4</td>\n",
       "      <td>19</td>\n",
       "      <td>5</td>\n",
       "      <td>2</td>\n",
       "      <td>20</td>\n",
       "      <td>B</td>\n",
       "    </tr>\n",
       "    <tr>\n",
       "      <th>93</th>\n",
       "      <td>94</td>\n",
       "      <td>45</td>\n",
       "      <td>62</td>\n",
       "      <td>134</td>\n",
       "      <td>Female</td>\n",
       "      <td>Moderate</td>\n",
       "      <td>0.0</td>\n",
       "      <td>4.0</td>\n",
       "      <td>0.0</td>\n",
       "      <td>0.0</td>\n",
       "      <td>ESFJ</td>\n",
       "      <td>11</td>\n",
       "      <td>10</td>\n",
       "      <td>17</td>\n",
       "      <td>9</td>\n",
       "      <td>6</td>\n",
       "      <td>18</td>\n",
       "      <td>13</td>\n",
       "      <td>9</td>\n",
       "      <td>B</td>\n",
       "    </tr>\n",
       "    <tr>\n",
       "      <th>94</th>\n",
       "      <td>95</td>\n",
       "      <td>43</td>\n",
       "      <td>69</td>\n",
       "      <td>188</td>\n",
       "      <td>Male</td>\n",
       "      <td>Moderate</td>\n",
       "      <td>2.0</td>\n",
       "      <td>0.0</td>\n",
       "      <td>0.0</td>\n",
       "      <td>0.0</td>\n",
       "      <td>ENFP</td>\n",
       "      <td>12</td>\n",
       "      <td>9</td>\n",
       "      <td>9</td>\n",
       "      <td>17</td>\n",
       "      <td>6</td>\n",
       "      <td>18</td>\n",
       "      <td>2</td>\n",
       "      <td>20</td>\n",
       "      <td>A</td>\n",
       "    </tr>\n",
       "    <tr>\n",
       "      <th>95</th>\n",
       "      <td>96</td>\n",
       "      <td>28</td>\n",
       "      <td>67</td>\n",
       "      <td>180</td>\n",
       "      <td>Female</td>\n",
       "      <td>Low</td>\n",
       "      <td>0.0</td>\n",
       "      <td>0.0</td>\n",
       "      <td>0.0</td>\n",
       "      <td>0.0</td>\n",
       "      <td>ESFJ</td>\n",
       "      <td>11</td>\n",
       "      <td>10</td>\n",
       "      <td>22</td>\n",
       "      <td>14</td>\n",
       "      <td>8</td>\n",
       "      <td>16</td>\n",
       "      <td>14</td>\n",
       "      <td>8</td>\n",
       "      <td>B</td>\n",
       "    </tr>\n",
       "    <tr>\n",
       "      <th>96</th>\n",
       "      <td>97</td>\n",
       "      <td>43</td>\n",
       "      <td>69</td>\n",
       "      <td>188</td>\n",
       "      <td>Male</td>\n",
       "      <td>Moderate</td>\n",
       "      <td>4.0</td>\n",
       "      <td>0.0</td>\n",
       "      <td>0.0</td>\n",
       "      <td>0.0</td>\n",
       "      <td>ENFP</td>\n",
       "      <td>12</td>\n",
       "      <td>9</td>\n",
       "      <td>9</td>\n",
       "      <td>17</td>\n",
       "      <td>6</td>\n",
       "      <td>18</td>\n",
       "      <td>2</td>\n",
       "      <td>20</td>\n",
       "      <td>A</td>\n",
       "    </tr>\n",
       "  </tbody>\n",
       "</table>\n",
       "<p>97 rows × 20 columns</p>\n",
       "</div>"
      ],
      "text/plain": [
       "    S No  AGE  HEIGHT  WEIGHT     SEX ACTIVITY LEVEL  PAIN 1  PAIN 2  PAIN 3  \\\n",
       "0      1   53      62     125  Female            Low     0.0     0.0     0.0   \n",
       "1      2   52      69     157    Male           High     7.0     8.0     5.0   \n",
       "2      3   30      69     200    Male           High     0.0     0.0     0.0   \n",
       "3      4   51      66     175    Male       Moderate     9.5     9.5     9.5   \n",
       "4      5   45      63     199  Female       Moderate     4.0     5.0     2.0   \n",
       "..   ...  ...     ...     ...     ...            ...     ...     ...     ...   \n",
       "92    93   16      58     100    Male       Moderate     0.0     0.0     0.0   \n",
       "93    94   45      62     134  Female       Moderate     0.0     4.0     0.0   \n",
       "94    95   43      69     188    Male       Moderate     2.0     0.0     0.0   \n",
       "95    96   28      67     180  Female            Low     0.0     0.0     0.0   \n",
       "96    97   43      69     188    Male       Moderate     4.0     0.0     0.0   \n",
       "\n",
       "    PAIN 4  MBTI   E   I   S   N   T   F   J   P POSTURE  \n",
       "0      0.0  ESFJ  18   3  17   9   9  13  18   4       A  \n",
       "1      3.0  ISTJ   6  15  14  12  21   3  13   9       B  \n",
       "2      0.0  ESTJ  15   6  16  10  15   9  12  10       A  \n",
       "3      1.5  ISTJ   6  15  21   5  13  11  19   3       D  \n",
       "4      2.0  ENFJ  14   7  20   6   9  15  16   6       A  \n",
       "..     ...   ...  ..  ..  ..  ..  ..  ..  ..  ..     ...  \n",
       "92     3.0  ESTP  19   2  22   4  19   5   2  20       B  \n",
       "93     0.0  ESFJ  11  10  17   9   6  18  13   9       B  \n",
       "94     0.0  ENFP  12   9   9  17   6  18   2  20       A  \n",
       "95     0.0  ESFJ  11  10  22  14   8  16  14   8       B  \n",
       "96     0.0  ENFP  12   9   9  17   6  18   2  20       A  \n",
       "\n",
       "[97 rows x 20 columns]"
      ]
     },
     "execution_count": 3,
     "metadata": {},
     "output_type": "execute_result"
    }
   ],
   "source": [
    "data"
   ]
  },
  {
   "cell_type": "code",
   "execution_count": 4,
   "id": "7be31630",
   "metadata": {},
   "outputs": [
    {
     "data": {
      "text/plain": [
       "Index(['S No', 'AGE', 'HEIGHT', 'WEIGHT', 'SEX', 'ACTIVITY LEVEL', 'PAIN 1',\n",
       "       'PAIN 2', 'PAIN 3', 'PAIN 4', 'MBTI', 'E', 'I', 'S', 'N', 'T', 'F', 'J',\n",
       "       'P', 'POSTURE'],\n",
       "      dtype='object')"
      ]
     },
     "execution_count": 4,
     "metadata": {},
     "output_type": "execute_result"
    }
   ],
   "source": [
    "data.columns"
   ]
  },
  {
   "cell_type": "markdown",
   "id": "aff2e318",
   "metadata": {},
   "source": [
    "POSTURE ---- \n",
    "A - Ideal posture\n",
    "B - Kyphosis-Iordosis\n",
    "C - Flat back\n",
    "D - Sway-back"
   ]
  },
  {
   "cell_type": "code",
   "execution_count": 5,
   "id": "1d7e85ec",
   "metadata": {},
   "outputs": [
    {
     "data": {
      "text/plain": [
       "(97, 20)"
      ]
     },
     "execution_count": 5,
     "metadata": {},
     "output_type": "execute_result"
    }
   ],
   "source": [
    "data.shape"
   ]
  },
  {
   "cell_type": "code",
   "execution_count": 6,
   "id": "bb7123f2",
   "metadata": {},
   "outputs": [
    {
     "data": {
      "text/plain": [
       "S No                int64\n",
       "AGE                 int64\n",
       "HEIGHT              int64\n",
       "WEIGHT              int64\n",
       "SEX                object\n",
       "ACTIVITY LEVEL     object\n",
       "PAIN 1            float64\n",
       "PAIN 2            float64\n",
       "PAIN 3            float64\n",
       "PAIN 4            float64\n",
       "MBTI               object\n",
       "E                   int64\n",
       "I                   int64\n",
       "S                   int64\n",
       "N                   int64\n",
       "T                   int64\n",
       "F                   int64\n",
       "J                   int64\n",
       "P                   int64\n",
       "POSTURE            object\n",
       "dtype: object"
      ]
     },
     "execution_count": 6,
     "metadata": {},
     "output_type": "execute_result"
    }
   ],
   "source": [
    "#The datatypes of all the columns in the dataset\n",
    "data.dtypes"
   ]
  },
  {
   "cell_type": "markdown",
   "id": "48b0dc27",
   "metadata": {},
   "source": [
    "The dataset contains 20 columns and 97 rows"
   ]
  },
  {
   "cell_type": "code",
   "execution_count": 7,
   "id": "beff6817",
   "metadata": {},
   "outputs": [
    {
     "data": {
      "text/plain": [
       "<AxesSubplot:>"
      ]
     },
     "execution_count": 7,
     "metadata": {},
     "output_type": "execute_result"
    },
    {
     "data": {
      "image/png": "[encoded data removed]",
      "text/plain": [
       "<Figure size 1000x600 with 2 Axes>"
      ]
     },
     "metadata": {},
     "output_type": "display_data"
    }
   ],
   "source": [
    "#Visualization of missing values\n",
    "plt.figure(figsize=(10,6))\n",
    "sns.heatmap(data.isna().transpose(),\n",
    "            cmap=\"YlGnBu\",\n",
    "            cbar_kws={'label': 'Missing Data'})"
   ]
  },
  {
   "cell_type": "markdown",
   "id": "da2f8304",
   "metadata": {},
   "source": [
    "As seen from the visualization, with the lack of any dark spots, there are no missing values in the dataset."
   ]
  },
  {
   "cell_type": "code",
   "execution_count": 8,
   "id": "8950a683",
   "metadata": {},
   "outputs": [
    {
     "data": {
      "text/plain": [
       "43.855670103092784"
      ]
     },
     "execution_count": 8,
     "metadata": {},
     "output_type": "execute_result"
    }
   ],
   "source": [
    "#Average age of the participants\n",
    "data['AGE'].mean()"
   ]
  },
  {
   "cell_type": "code",
   "execution_count": 9,
   "id": "2176c031",
   "metadata": {},
   "outputs": [
    {
     "data": {
      "text/plain": [
       "65.73195876288659"
      ]
     },
     "execution_count": 9,
     "metadata": {},
     "output_type": "execute_result"
    }
   ],
   "source": [
    "#Average height of the participants\n",
    "data['HEIGHT'].mean()"
   ]
  },
  {
   "cell_type": "code",
   "execution_count": 10,
   "id": "86951da9",
   "metadata": {},
   "outputs": [
    {
     "data": {
      "text/plain": [
       "159.43298969072166"
      ]
     },
     "execution_count": 10,
     "metadata": {},
     "output_type": "execute_result"
    }
   ],
   "source": [
    "#Average weight of the participants\n",
    "data['WEIGHT'].mean()"
   ]
  },
  {
   "cell_type": "code",
   "execution_count": 11,
   "id": "ee86a323",
   "metadata": {},
   "outputs": [
    {
     "data": {
      "text/plain": [
       "<AxesSubplot:>"
      ]
     },
     "execution_count": 11,
     "metadata": {},
     "output_type": "execute_result"
    },
    {
     "data": {
      "image/png": "[encoded data removed]",
      "text/plain": [
       "<Figure size 640x480 with 1 Axes>"
      ]
     },
     "metadata": {},
     "output_type": "display_data"
    }
   ],
   "source": [
    "#Distribution of male and female participants|\n",
    "data['SEX'].value_counts().plot.bar()"
   ]
  }
 ],
 "metadata": {
  "kernelspec": {
   "display_name": "Python 3 (ipykernel)",
   "language": "python",
   "name": "python3"
  },
  "language_info": {
   "codemirror_mode": {
    "name": "ipython",
    "version": 3
   },
   "file_extension": ".py",
   "mimetype": "text/x-python",
   "name": "python",
   "nbconvert_exporter": "python",
   "pygments_lexer": "ipython3",
   "version": "3.9.13"
  }
 },
 "nbformat": 4,
 "nbformat_minor": 5
}
